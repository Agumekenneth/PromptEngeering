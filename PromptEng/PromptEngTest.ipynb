{
 "cells": [
  {
   "cell_type": "code",
   "execution_count": null,
   "id": "5f6fd5de",
   "metadata": {},
   "outputs": [
    {
     "name": "stdout",
     "output_type": "stream",
     "text": [
      "Type your messages. Type 'bye' to exit.\n",
      "\n",
      "Error on attempt 1: Error code: 429 - {'error': {'message': 'You exceeded your current quota, please check your plan and billing details. For more information on this error, read the docs: https://platform.openai.com/docs/guides/error-codes/api-errors.', 'type': 'insufficient_quota', 'param': None, 'code': 'insufficient_quota'}}\n",
      "Retrying...\n",
      "\n",
      "Error on attempt 2: Error code: 429 - {'error': {'message': 'You exceeded your current quota, please check your plan and billing details. For more information on this error, read the docs: https://platform.openai.com/docs/guides/error-codes/api-errors.', 'type': 'insufficient_quota', 'param': None, 'code': 'insufficient_quota'}}\n",
      "Retrying...\n",
      "\n",
      "Error on attempt 3: Error code: 429 - {'error': {'message': 'You exceeded your current quota, please check your plan and billing details. For more information on this error, read the docs: https://platform.openai.com/docs/guides/error-codes/api-errors.', 'type': 'insufficient_quota', 'param': None, 'code': 'insufficient_quota'}}\n",
      "API call failed after 3 attempts. Exiting chat.\n"
     ]
    }
   ],
   "source": [
    "# Requires: openai >= 1.60.0\n",
    "# Run: pip install --upgrade openai\n",
    "import os\n",
    "import dotenv\n",
    "from openai import OpenAI\n",
    "\n",
    "# Load environment variables if using .env file\n",
    "dotenv.load_dotenv()\n",
    "\n",
    "# Create an OpenAI client (reads key from environment variable \"API\")\n",
    "client = OpenAI(api_key=os.environ.get(\"API\"))\n",
    "\n",
    "# Conversation state\n",
    "system_prompt = (\n",
    "    \"You are an intelligent assistant. \"\n",
    "    \"Always reply with at least 15 words and at most 50 words.\"\n",
    ")\n",
    "\n",
    "# Keep every turn as a simple string in `history`\n",
    "history = [f\"System: {system_prompt}\"]\n",
    "\n",
    "# Interactive loop\n",
    "print(\"Type your messages. Type 'bye' to exit.\\n\")\n",
    "print(\"Extra commands: 'save' to save chat, 'summary' to summarize.\\n\")\n",
    "\n",
    "while True:\n",
    "    user_msg = input(\"User: \").strip()\n",
    "    if not user_msg:\n",
    "        continue\n",
    "\n",
    "    # Exit\n",
    "    if user_msg.lower() == \"bye\":\n",
    "        print(\"GPT-5: Goodbye 👋\")\n",
    "        break\n",
    "\n",
    "    # Save conversation\n",
    "    if user_msg.lower() == \"save\":\n",
    "        with open(\"chat_history.txt\", \"w\") as f:\n",
    "            f.write(\"\\n\".join(history))\n",
    "        print(\"Conversation saved to chat_history.txt\\n\")\n",
    "        continue\n",
    "\n",
    "    # Summarize conversation\n",
    "    if user_msg.lower() == \"summary\":\n",
    "        try:\n",
    "            summary_prompt = (\n",
    "                \"Summarize the following conversation in 5 concise sentences:\\n\\n\"\n",
    "                + \"\\n\".join(history)\n",
    "            )\n",
    "            response = client.responses.create(\n",
    "                model=\"gpt-5\",\n",
    "                input=summary_prompt,\n",
    "                reasoning={\"effort\": \"medium\"},\n",
    "                text={\"verbosity\": \"medium\"}\n",
    "            )\n",
    "            summary = response.output_text.strip()\n",
    "            print(f\"Summary: {summary}\\n\")\n",
    "        except Exception as e:\n",
    "            print(\"Error while summarizing:\", e)\n",
    "        continue\n",
    "\n",
    "    # Save user input\n",
    "    history.append(f\"User: {user_msg}\")\n",
    "    prompt = \"\\n\".join(history)\n",
    "\n",
    "    # Retry logic (max 3 attempts)\n",
    "    success = False\n",
    "    for attempt in range(3):\n",
    "        try:\n",
    "            response = client.responses.create(\n",
    "                model=\"gpt-5\",\n",
    "                input=prompt,\n",
    "                reasoning={\"effort\": \"medium\"},\n",
    "                text={\"verbosity\": \"medium\"}\n",
    "            )\n",
    "\n",
    "            reply = response.output_text.strip()\n",
    "            print(f\"GPT-5: {reply}\\n\")\n",
    "\n",
    "            history.append(f\"Assistant: {reply}\")\n",
    "            success = True\n",
    "            break  # stop retrying if successful\n",
    "\n",
    "        except Exception as e:\n",
    "            print(f\"Error on attempt {attempt+1}: {e}\")\n",
    "            if attempt < 2:\n",
    "                print(\"Retrying...\\n\")\n",
    "\n",
    "    if not success:\n",
    "        print(\"API call failed after 3 attempts. Exiting chat.\")\n",
    "        break\n"
   ]
  },
  {
   "cell_type": "markdown",
   "id": "ad28f3bb",
   "metadata": {},
   "source": [
    "## QUESTION ONE"
   ]
  },
  {
   "cell_type": "code",
   "execution_count": null,
   "id": "86014e79",
   "metadata": {},
   "outputs": [],
   "source": [
    "# Answer to Question 1:\n",
    "history.append(f\"User: {user_msg}\")# this is where the user's input appends to the conversation history.\n",
    "#The user’s input is appended to the conversation history immediately after the input is validated"
   ]
  },
  {
   "cell_type": "markdown",
   "id": "f2479dbc",
   "metadata": {},
   "source": [
    "## QUESTION TWO"
   ]
  },
  {
   "cell_type": "markdown",
   "id": "52215c28",
   "metadata": {},
   "source": [
    "The conversation is sent to GPT-5 using the method\n",
    "## client.responses.create()\n",
    "\n"
   ]
  },
  {
   "cell_type": "markdown",
   "id": "7b896266",
   "metadata": {},
   "source": [
    "## QUESTION THREE"
   ]
  },
  {
   "cell_type": "markdown",
   "id": "aa8f2a3f",
   "metadata": {},
   "source": [
    "# using this; code if not user_msg:\n",
    "    continue\n",
    "\n",
    "The program reads the user’s input (user_msg = input(\"User: \").strip()).\n",
    "\n",
    "If the user only presses Enter (so user_msg is an empty string), the condition if not user_msg: becomes True.\n",
    "\n",
    "The keyword continue makes the loop skip the rest of the steps and go back to ask for input again.\n",
    "\n",
    "This prevents adding empty messages into the history.\n",
    "\n",
    "It also avoids sending a blank prompt to GPT-5."
   ]
  },
  {
   "cell_type": "markdown",
   "id": "afb0cf43",
   "metadata": {},
   "source": [
    "## QUESTION FOUR"
   ]
  },
  {
   "cell_type": "markdown",
   "id": "bea688b6",
   "metadata": {},
   "source": [
    "Modification of the code "
   ]
  },
  {
   "cell_type": "markdown",
   "id": "6c4645e4",
   "metadata": {},
   "source": [
    "## QUESTION FIVE\n",
    "\n",
    "Code modification"
   ]
  },
  {
   "cell_type": "markdown",
   "id": "118be08c",
   "metadata": {},
   "source": [
    "## QUESTION SIX\n",
    "code modification"
   ]
  },
  {
   "cell_type": "markdown",
   "id": "9d2ebc08",
   "metadata": {},
   "source": [
    "## QUESTION SEVEN\n",
    "\n",
    "\n",
    "code modification"
   ]
  }
 ],
 "metadata": {
  "kernelspec": {
   "display_name": "Python 3",
   "language": "python",
   "name": "python3"
  },
  "language_info": {
   "codemirror_mode": {
    "name": "ipython",
    "version": 3
   },
   "file_extension": ".py",
   "mimetype": "text/x-python",
   "name": "python",
   "nbconvert_exporter": "python",
   "pygments_lexer": "ipython3",
   "version": "3.12.5"
  }
 },
 "nbformat": 4,
 "nbformat_minor": 5
}
